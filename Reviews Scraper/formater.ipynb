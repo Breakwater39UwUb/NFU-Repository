{
 "cells": [
  {
   "cell_type": "code",
   "execution_count": 106,
   "metadata": {},
   "outputs": [
    {
     "name": "stdout",
     "output_type": "stream",
     "text": [
      "['1964豬肉飯-Google地圖.csv', '50Pizza-虎尾人氣比薩焗烤美食專賣店-Google地圖.csv', 'INDOSARI-Google地圖.csv', 'Nospacekitchencorner無空間廚坊-Google地圖.csv', 'SunnyQ陽光公主義國餐廳-Google地圖.csv', 'Tinco庭口金工虎尾店-Google地圖.csv', '一魂拉麵-虎尾店-Google地圖.csv', '七之一食堂-Google地圖.csv', '三人行炸雞-Google地圖.csv', '三商巧福虎尾門市-Google地圖.csv', '三本香腸(老店)-Google地圖.csv', '五福園美食餐廳-Google地圖.csv', '井野板前料理-Google地圖.csv', '京川魯肉飯-Google地圖.csv', '京綺麵館-Google地圖.csv', '伊府將鍋燒雲林虎尾店-Google地圖.csv', '佳味小吃-Google地圖.csv', '八春饌川菜館-Google地圖.csv', '八重間豆花店-Google地圖.csv', '六扇門時尚湯鍋虎尾中正店-Google地圖.csv', '初八拉麵-虎尾店-Google地圖.csv', '北港阿榮古早味（虎尾店）-Google地圖.csv', '原食煮藝-虎尾店-Google地圖.csv', '台大醫院雲林分院虎尾院區餐廳-Google地圖.csv', '咖哩老師虎尾店-Google地圖.csv', '品都串燒-虎尾店-Google地圖.csv', '圓味壽司-虎尾林森店-Google地圖.csv', '士朋鐵板燒-Google地圖.csv', '夯飄香-碳烤蔗香脆皮桶仔雞(虎尾區)-Google地圖.csv', '奕豆-Google地圖.csv', '宏常旺平價海鮮熱炒餐廳-Google地圖.csv', '宗美麵食館-Google地圖.csv', '小妹越南料理-Google地圖.csv', '小荳子素食廚房-Google地圖.csv', '尚品火鍋-Google地圖.csv', '山禾日本料理-Google地圖.csv', '川息拉麵丼飯虎尾店CP值超高 虎尾在地美食必吃拉麵、丼飯店-Google地圖.csv', '川牛木石亭虎尾店-Google地圖.csv', '左切右切黑白切-Google地圖.csv', '庒腳居酒屋-Google地圖.csv', '御瓚日式鍋燒麵、廣式粥-Google地圖.csv', '微樂生活咖啡-Google地圖.csv', '德興市場自助餐-Google地圖.csv', '我家鍋燒-Google地圖.csv', '我的冰箱無菜單創意料理-Google地圖.csv', '披薩老爹義大利餐廳虎尾總店-Google地圖.csv', '抱糰料理工作室-Google地圖.csv', '撲鼻PuBiぷび眷村店-Google地圖.csv', '新村八號(不定期公休詳見粉絲專頁公告)-Google地圖.csv', '新生素食-Google地圖.csv', '新韓式簡餐-Google地圖.csv', \"日光下的貓Caf'e貓中途咖啡餐館-Google地圖.csv\", '明洞海苔飯捲-虎尾店-Google地圖.csv', '明鳳食寓宴會廳宴會館-Google地圖.csv', '春天義禾-Google地圖.csv', '有利脆皮豬虎尾店-Google地圖.csv', '杉午排骨雞腿便當-Google地圖.csv', '東昇自助餐-Google地圖.csv', '板原日本料理-Google地圖.csv', '栮苳之家(店休請看粉專)-Google地圖.csv', '樂包子LeBaozi-Google地圖.csv', '樂飯樂販虎尾店-Google地圖.csv', '正宗民雄老莊鵝肉-Google地圖.csv', '水源町二三九番地居酒屋-Google地圖.csv', '游家小吃店TOKOINDOLISA-Google地圖.csv', '漫恩食光MUNMUN-虎尾店-Google地圖.csv', '潮味決．湯滷專門店雲林虎尾分社-Google地圖.csv', '火鍋世家雲林虎尾店-Google地圖.csv', '爭鮮迴轉壽司-虎尾家樂福店-Google地圖.csv', '王牪牛排美食餐飲館i王牪虎尾店-Google地圖.csv', '瓠仔貴虎尾店-Google地圖.csv', '生機廚房-Google地圖.csv', '皇品川菜館-Google地圖.csv', '石頭日式無煙燒肉虎尾旗艦館-Google地圖.csv', '福勝亭虎尾店-Google地圖.csv', '築饌無菜單料理全預約制-Google地圖.csv', '米多力休閒農莊-Google地圖.csv', '紅蟳城鱉大王-Google地圖.csv', '紅鶴亞鐵板燒-Google地圖.csv', '老宋排骨（店休粉專公告）-Google地圖.csv', '老牌石頭火鍋-虎尾店-Google地圖.csv', '老街素食-Google地圖.csv', '肯德基雲林虎尾餐廳-Google地圖.csv', '胡同院-Google地圖.csv', '舒香小舖日式丼飯-Google地圖.csv', '色鼎燒肉虎尾店-Google地圖.csv', '花济日本料理-Google地圖.csv', '芸彰牧場牛肉料理餐廳-Google地圖.csv', '荷馬異國料理-Google地圖.csv', '蒸饌養生蒸気火鍋 精緻鍋物虎尾館-Google地圖.csv', '蓮欣素食店-Google地圖.csv', '蓮花園複合式蔬食館-Google地圖.csv', '薇若拉無國界料理虎尾推薦親子餐廳遛小孩的好地方-Google地圖.csv', '藝壽司-Google地圖.csv', '藤原壽司-Google地圖.csv', '虎尾-木子-Google地圖.csv', '虎尾不思義-Google地圖.csv', '虎尾不思議-Google地圖.csv', '虎尾佳香便當-Google地圖.csv', '虎尾宮本屋日式料理(生魚片、烤物、炸物、蒸物、冷餚)-Google地圖.csv', '虎尾日本料理-Google地圖.csv', '虎尾王家當歸鴨肉麵線-Google地圖.csv', '虎尾眷村眷味廚房【採預約制】-Google地圖.csv', '虎尾雲壽司-Google地圖.csv', '虎尾：好食『Huwei：House』-Google地圖.csv', '角打串燒居酒屋-Google地圖.csv', '豪品法式鐵板燒（原中正路一品鐵板燒）-Google地圖.csv', '鄉情日式料理-虎尾店-Google地圖.csv', '野川堂秘境鍋物虎尾店-Google地圖.csv', '阿發炭燒羊肉爐-Google地圖.csv', '阿莉素食-Google地圖.csv', '陳家飯館-Google地圖.csv', '雲品食坊西式複合式料理-Google地圖.csv', '雲林虎尾張家小館-Google地圖.csv', '魔力牛牛排館虎尾店主打雙拼加麵不加價惟有堅持才有美味-Google地圖.csv', '鵝肉扁餐廳-Google地圖.csv', '鵝肉朗-Google地圖.csv', '鹿島和居-Google地圖.csv', '麥方部落-Google地圖.csv', '麥當勞-虎尾新興餐廳-Google地圖.csv', '麻辣風暴鴛鴦鍋-虎尾店-Google地圖.csv']\n"
     ]
    }
   ],
   "source": [
    "import glob, os\n",
    "os.chdir(\"./\")\n",
    "files = []\n",
    "for file in glob.glob(\"*.csv\"):\n",
    "    files.append(file)\n",
    "print(files)"
   ]
  },
  {
   "cell_type": "code",
   "execution_count": 123,
   "metadata": {},
   "outputs": [],
   "source": [
    "import pandas as pd\n",
    "out_df = pd.DataFrame()\n",
    "\n",
    "for file in files:\n",
    "    df = pd.read_csv(file)\n",
    "\n",
    "    for row in range(len(df.index)):\n",
    "        temp = df.iloc[row]['comment']\n",
    "        if pd.isnull(temp):\n",
    "            continue\n",
    "        temp = temp.replace(' ', ',').replace('\\n', ',')\n",
    "        df.at[row, 'comment'] = temp\n",
    "\n",
    "    cols = list(df.columns)\n",
    "    a, b = cols.index('rating'), cols.index('comment')\n",
    "    cols[b], cols[a] = cols[a], cols[b]\n",
    "    df = df[cols]\n",
    "    \n",
    "    out_df = pd.concat([out_df, df])\n",
    "\n",
    "out_df.to_csv('./Training_Data.txt', sep=' ')\n",
    "out_df.to_csv('./Training_Data_non_index.txt', sep= ' ', header=False, index=False)\n"
   ]
  }
 ],
 "metadata": {
  "kernelspec": {
   "display_name": "Python 3",
   "language": "python",
   "name": "python3"
  },
  "language_info": {
   "codemirror_mode": {
    "name": "ipython",
    "version": 3
   },
   "file_extension": ".py",
   "mimetype": "text/x-python",
   "name": "python",
   "nbconvert_exporter": "python",
   "pygments_lexer": "ipython3",
   "version": "3.11.4"
  }
 },
 "nbformat": 4,
 "nbformat_minor": 2
}
